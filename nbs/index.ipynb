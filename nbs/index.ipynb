{
 "cells": [
  {
   "cell_type": "code",
   "execution_count": null,
   "metadata": {},
   "outputs": [],
   "source": [
    "#| default_exp index"
   ]
  },
  {
   "cell_type": "code",
   "execution_count": null,
   "metadata": {},
   "outputs": [],
   "source": [
    "#| hide\n",
    "from nbdev.showdoc import *"
   ]
  },
  {
   "cell_type": "code",
   "execution_count": null,
   "metadata": {},
   "outputs": [],
   "source": [
    "#| hide\n",
    "import nbdev; nbdev.nbdev_export()"
   ]
  },
  {
   "cell_type": "markdown",
   "metadata": {},
   "source": [
    "# Introduction to nbdev\n",
    "\n",
    "> Welcome to the nbdev tutorial! nbdev is a powerful tool for developing Python libraries entirely in Jupyter notebooks. With nbdev, you can write code, create documentation, run tests, and build your library, all within a notebook environment. This tutorial will guide you through the process of using nbdev to create your own Python library."
   ]
  },
  {
   "cell_type": "markdown",
   "metadata": {},
   "source": [
    "### Features of nbdev\n",
    "\n",
    "> - `Notebook-Driven Development`: Write your code and documentation in Jupyter notebooks, enabling an interactive and iterative development process.\n",
    "\n",
    "> - `Automated Documentation`: Generate high-quality documentation automatically from your notebooks using tools like Quarto and GitHub Pages.\n",
    "\n",
    "> - `Testing and Continuous Integration`: Write tests directly in your notebooks, and run them automatically to ensure your code is working correctly. nbdev integrates seamlessly with GitHub Actions for continuous integration.\n",
    "\n",
    "> - `Package Building`: Build your library into a distributable Python package with a single command, making it easy to share and distribute your code.\n",
    "\n",
    "> - `Git Integration`: nbdev provides Git hooks that clean unwanted metadata and render merge conflicts in a human-readable format, making version control and collaboration easier."
   ]
  },
  {
   "cell_type": "markdown",
   "metadata": {},
   "source": [
    "## Overview of the Tutorial"
   ]
  },
  {
   "cell_type": "markdown",
   "metadata": {},
   "source": [
    "> - ##### Video Tutorial for nbdev Documentation\n",
    "\n",
    ">> - A video tutorial providing additional guidance on using nbdev for documentation purposes.\n",
    "\n",
    "> - ##### Installation\n",
    "\n",
    ">> - We'll start by installing the necessary tools and dependencies, including Python, a Python package manager (conda or pip), Jupyter Notebook, nbdev, Quarto, and the Quarto JupyterLab extension.\n",
    "\n",
    "> - ##### Create an Empty GitHub Repo\n",
    "\n",
    ">> - Create a new repository on GitHub to host our nbdev project and initialize it using nbdev commands.\n",
    "\n",
    "> - ##### Initialize Your Repo with nbdev\n",
    "\n",
    ">> - Create a new repository on GitHub and initialize it using nbdev commands.\n",
    "\n",
    "> - ##### Enable GitHub Pages\n",
    "\n",
    ">> - Configure GitHub Pages for our repository to publish our documentation.\n",
    "\n",
    "> - ##### Check Out Your Workflows\n",
    "\n",
    ">> - Explore the CI and Deploy to GitHub Pages workflows in the Actions tab of our repository.\n",
    "\n",
    "> - ##### Check Out Your Docs\n",
    "\n",
    ">> - We'll wait for the pages build and deployment workflow to complete, and then access our documentation by opening the provided URL.\n",
    "\n",
    "> - ##### Set up Autoreload\n",
    "\n",
    ">> - Configure your Jupyter environment to enable autoreloading of modules.\n",
    "\n",
    "> - ##### Set up Prerequisites\n",
    "\n",
    ">> - Install the necessary dependencies, including Python, Python package manager (pip or conda), Jupyter Notebook, nbdev, Quarto, and the Quarto JupyterLab extension.\n",
    "\n",
    "> - ##### Make Your First Edit\n",
    "\n",
    ">> - Clone your GitHub repository, initialize it with nbdev, and enable GitHub Pages for documentation.\n",
    "\n",
    "> - ##### Edit 00_core.ipynb\n",
    "\n",
    ">> - Open the 00_core.ipynb file, update notebook metadata and default export module, and save the notebook to export the modules.\n",
    "\n",
    "> - ##### Add Your Own Function\n",
    "\n",
    ">> - Create a new code cell in the notebook, define your own function, and use the #| export directive to include it in the module.\n",
    "\n",
    "> - ##### Add Examples, Tests, and Docs\n",
    "\n",
    ">> - Add regular code cells to provide examples, write test cells using asserts or fastcore.test functions, and include documentation using Markdown cells.\n",
    "\n",
    "> - ##### Prepare Your Changes\n",
    "\n",
    ">> - Run nbdev commands in the terminal to build modules, test notebooks, clean notebooks, and update the README.md file.\n",
    "\n",
    "> - ##### Common Errors and their Solutions\n",
    "\n",
    ">> - Learn about common errors, such as \"No module found\" errors due to missing dependencies, and how to resolve them."
   ]
  },
  {
   "cell_type": "markdown",
   "metadata": {},
   "source": [
    "## Install"
   ]
  },
  {
   "cell_type": "markdown",
   "metadata": {},
   "source": [
    "> To get started with nbdev, you need to install it in your Python environment. You can install nbdev using either pip or conda:"
   ]
  },
  {
   "cell_type": "code",
   "execution_count": null,
   "metadata": {},
   "outputs": [],
   "source": [
    "!pip install nbdev"
   ]
  },
  {
   "cell_type": "code",
   "execution_count": null,
   "metadata": {},
   "outputs": [],
   "source": [
    "!conda install -c fastai nbdev"
   ]
  },
  {
   "cell_type": "markdown",
   "metadata": {},
   "source": [
    "> Make sure to install nbdev in the same Python environment that you use for Jupyter notebooks and your project."
   ]
  },
  {
   "cell_type": "markdown",
   "metadata": {},
   "source": [
    "## How to Use nbdev"
   ]
  },
  {
   "cell_type": "markdown",
   "metadata": {},
   "source": [
    "> The best way to learn how to use nbdev is to work through the provided tutorial. The tutorial will walk you through the entire process of creating a Python library using nbdev, including defining functions, writing tests, generating documentation, and building the package. You can follow the tutorial either in written walkthrough form or through the accompanying video."
   ]
  },
  {
   "cell_type": "markdown",
   "metadata": {},
   "source": [
    "<iframe width=\"560\" height=\"315\" src=\"https://www.youtube.com/embed/l7zS8Ld4_iA\" title=\"YouTube video player\" frameborder=\"0\" allow=\"accelerometer; autoplay; clipboard-write; encrypted-media; gyroscope; picture-in-picture; web-share\" allowfullscreen></iframe>"
   ]
  },
  {
   "cell_type": "markdown",
   "metadata": {},
   "source": [
    "> You can also run nbdev_help from the terminal to see the full list of available commands:"
   ]
  },
  {
   "cell_type": "code",
   "execution_count": null,
   "metadata": {},
   "outputs": [
    {
     "name": "stdout",
     "output_type": "stream",
     "text": [
      "\u001b[1m\u001b[94mnbdev_bump_version\u001b[22m\u001b[39m        Increment version in settings.ini by one\n",
      "\u001b[1m\u001b[94mnbdev_changelog\u001b[22m\u001b[39m           Create a CHANGELOG.md file from closed and labeled GitHub issues\n",
      "\u001b[1m\u001b[94mnbdev_clean\u001b[22m\u001b[39m               Clean all notebooks in `fname` to avoid merge conflicts\n",
      "\u001b[1m\u001b[94mnbdev_conda\u001b[22m\u001b[39m               Create a `meta.yaml` file ready to be built into a package, and optionally build and upload it\n",
      "\u001b[1m\u001b[94mnbdev_create_config\u001b[22m\u001b[39m       Create a config file.\n",
      "\u001b[1m\u001b[94mnbdev_docs\u001b[22m\u001b[39m                Create Quarto docs and README.md\n",
      "\u001b[1m\u001b[94mnbdev_export\u001b[22m\u001b[39m              Export notebooks in `path` to Python modules\n",
      "\u001b[1m\u001b[94mnbdev_filter\u001b[22m\u001b[39m              A notebook filter for Quarto\n",
      "\u001b[1m\u001b[94mnbdev_fix\u001b[22m\u001b[39m                 Create working notebook from conflicted notebook `nbname`\n",
      "\u001b[1m\u001b[94mnbdev_help\u001b[22m\u001b[39m                Show help for all console scripts\n",
      "\u001b[1m\u001b[94mnbdev_install\u001b[22m\u001b[39m             Install Quarto and the current library\n",
      "\u001b[1m\u001b[94mnbdev_install_hooks\u001b[22m\u001b[39m       Install Jupyter and git hooks to automatically clean, trust, and fix merge conflicts in notebooks\n",
      "\u001b[1m\u001b[94mnbdev_install_quarto\u001b[22m\u001b[39m      Install latest Quarto on macOS or Linux, prints instructions for Windows\n",
      "\u001b[1m\u001b[94mnbdev_merge\u001b[22m\u001b[39m               Git merge driver for notebooks\n",
      "\u001b[1m\u001b[94mnbdev_migrate\u001b[22m\u001b[39m             Convert all markdown and notebook files in `path` from v1 to v2\n",
      "\u001b[1m\u001b[94mnbdev_new\u001b[22m\u001b[39m                 Create an nbdev project.\n",
      "\u001b[1m\u001b[94mnbdev_prepare\u001b[22m\u001b[39m             Export, test, and clean notebooks, and render README if needed\n",
      "\u001b[1m\u001b[94mnbdev_preview\u001b[22m\u001b[39m             Preview docs locally\n",
      "\u001b[1m\u001b[94mnbdev_proc_nbs\u001b[22m\u001b[39m            Process notebooks in `path` for docs rendering\n",
      "\u001b[1m\u001b[94mnbdev_pypi\u001b[22m\u001b[39m                Create and upload Python package to PyPI\n",
      "\u001b[1m\u001b[94mnbdev_readme\u001b[22m\u001b[39m              None\n",
      "\u001b[1m\u001b[94mnbdev_release_both\u001b[22m\u001b[39m        Release both conda and PyPI packages\n",
      "\u001b[1m\u001b[94mnbdev_release_gh\u001b[22m\u001b[39m          Calls `nbdev_changelog`, lets you edit the result, then pushes to git and calls `nbdev_release_git`\n",
      "\u001b[1m\u001b[94mnbdev_release_git\u001b[22m\u001b[39m         Tag and create a release in GitHub for the current version\n",
      "\u001b[1m\u001b[94mnbdev_sidebar\u001b[22m\u001b[39m             Create sidebar.yml\n",
      "\u001b[1m\u001b[94mnbdev_test\u001b[22m\u001b[39m                Test in parallel notebooks matching `path`, passing along `flags`\n",
      "\u001b[1m\u001b[94mnbdev_trust\u001b[22m\u001b[39m               Trust notebooks matching `fname`\n",
      "\u001b[1m\u001b[94mnbdev_update\u001b[22m\u001b[39m              Propagate change in modules matching `fname` to notebooks that created them\n"
     ]
    }
   ],
   "source": [
    "!nbdev_help"
   ]
  },
  {
   "cell_type": "markdown",
   "metadata": {},
   "source": [
    "> By the end of the tutorial, you will have a solid understanding of nbdev and be able to leverage its powerful features to develop and maintain your own Python libraries."
   ]
  }
 ],
 "metadata": {
  "kernelspec": {
   "display_name": "python3",
   "language": "python",
   "name": "python3"
  }
 },
 "nbformat": 4,
 "nbformat_minor": 4
}
